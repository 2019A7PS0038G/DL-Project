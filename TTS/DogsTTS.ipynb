{
  "metadata": {
    "kernelspec": {
      "language": "python",
      "display_name": "Python 3",
      "name": "python3"
    },
    "language_info": {
      "name": "python",
      "version": "3.7.12",
      "mimetype": "text/x-python",
      "codemirror_mode": {
        "name": "ipython",
        "version": 3
      },
      "pygments_lexer": "ipython3",
      "nbconvert_exporter": "python",
      "file_extension": ".py"
    },
    "colab": {
      "name": "DogsTTS.ipynb",
      "provenance": []
    }
  },
  "nbformat_minor": 0,
  "nbformat": 4,
  "cells": [
    {
      "cell_type": "code",
      "source": [
        "# This Python 3 environment comes with many helpful analytics libraries installed\n",
        "# It is defined by the kaggle/python Docker image: https://github.com/kaggle/docker-python\n",
        "# For example, here's several helpful packages to load\n",
        "\n",
        "import numpy as np # linear algebra\n",
        "import pandas as pd # data processing, CSV file I/O (e.g. pd.read_csv)BASE_PATH = '/content/drive/MyDrive/Sound'\n",
        "TRAIN_PATH = BASE_PATH  \n",
        "\n",
        "# Sampling rate\n",
        "sr = 22050\n",
        "# Load duration- 20s out of 30s\n",
        "load_duration = 2\n",
        "# Samples for corresponding load duration\n",
        "TOTAL_SAMPLES = load_duration * sr\n",
        "# Number of slices to be created of the load duration\n",
        "NUM_SLICES = 1\n",
        "\n",
        "SAMPLES_PER_SLICE = int(TOTAL_SAMPLES / NUM_SLICES)\n",
        "\n",
        "# Input data files are available in the read-only \"../input/\" directory\n",
        "# For example, running this (by clicking run or pressing Shift+Enter) will list all files under the input directory\n",
        "\n",
        "import os\n",
        "for dirname, _, filenames in os.walk('/kaggle/input'):\n",
        "    for filename in filenames:\n",
        "        print(os.path.join(dirname, filename))\n",
        "\n",
        "# You can write up to 20GB to the current directory (/kaggle/working/) that gets preserved as output when you create a version using \"Save & Run All\" \n",
        "# You can also write temporary files to /kaggle/temp/, but they won't be saved outside of the current session"
      ],
      "metadata": {
        "_uuid": "8f2839f25d086af736a60e9eeb907d3b93b6e0e5",
        "_cell_guid": "b1076dfc-b9ad-4769-8c92-a6c4dae69d19",
        "trusted": true,
        "id": "8jlfuEpkJHJJ"
      },
      "execution_count": null,
      "outputs": []
    },
    {
      "cell_type": "code",
      "source": [
        "!wget http://images.cocodataset.org/annotations/annotations_trainval2017.zip"
      ],
      "metadata": {
        "execution": {
          "iopub.status.busy": "2022-05-15T09:38:27.188749Z",
          "iopub.execute_input": "2022-05-15T09:38:27.189291Z",
          "iopub.status.idle": "2022-05-15T09:38:30.860971Z",
          "shell.execute_reply.started": "2022-05-15T09:38:27.189234Z",
          "shell.execute_reply": "2022-05-15T09:38:30.859839Z"
        },
        "trusted": true,
        "colab": {
          "base_uri": "https://localhost:8080/"
        },
        "id": "xwwqMu7QJHJO",
        "outputId": "b4076ee7-abdd-45b9-eda5-55a9541dc216"
      },
      "execution_count": null,
      "outputs": [
        {
          "output_type": "stream",
          "name": "stdout",
          "text": [
            "--2022-05-15 09:55:24--  http://images.cocodataset.org/annotations/annotations_trainval2017.zip\n",
            "Resolving images.cocodataset.org (images.cocodataset.org)... 52.216.89.236\n",
            "Connecting to images.cocodataset.org (images.cocodataset.org)|52.216.89.236|:80... connected.\n",
            "HTTP request sent, awaiting response... 200 OK\n",
            "Length: 252907541 (241M) [application/zip]\n",
            "Saving to: ‘annotations_trainval2017.zip’\n",
            "\n",
            "annotations_trainva 100%[===================>] 241.19M  46.4MB/s    in 5.6s    \n",
            "\n",
            "2022-05-15 09:55:30 (42.7 MB/s) - ‘annotations_trainval2017.zip’ saved [252907541/252907541]\n",
            "\n"
          ]
        }
      ]
    },
    {
      "cell_type": "code",
      "source": [
        "!unzip annotations_trainval2017.zip -d annotations_trainval2017"
      ],
      "metadata": {
        "execution": {
          "iopub.status.busy": "2022-05-15T09:38:39.309054Z",
          "iopub.execute_input": "2022-05-15T09:38:39.309354Z",
          "iopub.status.idle": "2022-05-15T09:38:48.031000Z",
          "shell.execute_reply.started": "2022-05-15T09:38:39.309321Z",
          "shell.execute_reply": "2022-05-15T09:38:48.029958Z"
        },
        "trusted": true,
        "colab": {
          "base_uri": "https://localhost:8080/"
        },
        "id": "sudxwZBOJHJP",
        "outputId": "4bb22744-ee33-4e36-af5a-da36b8bfcdf7"
      },
      "execution_count": null,
      "outputs": [
        {
          "output_type": "stream",
          "name": "stdout",
          "text": [
            "Archive:  annotations_trainval2017.zip\n",
            "  inflating: annotations_trainval2017/annotations/instances_train2017.json  \n",
            "  inflating: annotations_trainval2017/annotations/instances_val2017.json  \n",
            "  inflating: annotations_trainval2017/annotations/captions_train2017.json  \n",
            "  inflating: annotations_trainval2017/annotations/captions_val2017.json  \n",
            "  inflating: annotations_trainval2017/annotations/person_keypoints_train2017.json  \n",
            "  inflating: annotations_trainval2017/annotations/person_keypoints_val2017.json  \n"
          ]
        }
      ]
    },
    {
      "cell_type": "code",
      "source": [
        "!pip install pycocotools\n",
        "%matplotlib inline\n",
        "from pycocotools.coco import COCO\n",
        "import numpy as np\n",
        "import skimage.io as io\n",
        "import matplotlib.pyplot as plt\n",
        "import pylab\n",
        "import time\n",
        "pylab.rcParams['figure.figsize'] = (8.0, 10.0)"
      ],
      "metadata": {
        "execution": {
          "iopub.status.busy": "2022-05-15T09:38:48.034900Z",
          "iopub.execute_input": "2022-05-15T09:38:48.035165Z",
          "iopub.status.idle": "2022-05-15T09:39:31.481510Z",
          "shell.execute_reply.started": "2022-05-15T09:38:48.035134Z",
          "shell.execute_reply": "2022-05-15T09:39:31.478758Z"
        },
        "trusted": true,
        "colab": {
          "base_uri": "https://localhost:8080/"
        },
        "id": "N8Hek1UfJHJQ",
        "outputId": "44aca070-129f-4bd5-b52f-da43d9db3873"
      },
      "execution_count": null,
      "outputs": [
        {
          "output_type": "stream",
          "name": "stdout",
          "text": [
            "Requirement already satisfied: pycocotools in /usr/local/lib/python3.7/dist-packages (2.0.4)\n",
            "Requirement already satisfied: matplotlib>=2.1.0 in /usr/local/lib/python3.7/dist-packages (from pycocotools) (3.2.2)\n",
            "Requirement already satisfied: numpy in /usr/local/lib/python3.7/dist-packages (from pycocotools) (1.21.6)\n",
            "Requirement already satisfied: kiwisolver>=1.0.1 in /usr/local/lib/python3.7/dist-packages (from matplotlib>=2.1.0->pycocotools) (1.4.2)\n",
            "Requirement already satisfied: cycler>=0.10 in /usr/local/lib/python3.7/dist-packages (from matplotlib>=2.1.0->pycocotools) (0.11.0)\n",
            "Requirement already satisfied: python-dateutil>=2.1 in /usr/local/lib/python3.7/dist-packages (from matplotlib>=2.1.0->pycocotools) (2.8.2)\n",
            "Requirement already satisfied: pyparsing!=2.0.4,!=2.1.2,!=2.1.6,>=2.0.1 in /usr/local/lib/python3.7/dist-packages (from matplotlib>=2.1.0->pycocotools) (3.0.8)\n",
            "Requirement already satisfied: typing-extensions in /usr/local/lib/python3.7/dist-packages (from kiwisolver>=1.0.1->matplotlib>=2.1.0->pycocotools) (4.2.0)\n",
            "Requirement already satisfied: six>=1.5 in /usr/local/lib/python3.7/dist-packages (from python-dateutil>=2.1->matplotlib>=2.1.0->pycocotools) (1.15.0)\n"
          ]
        }
      ]
    },
    {
      "cell_type": "code",
      "source": [
        "dataDir='annotations_trainval2017'\n",
        "dataType='train2017'\n",
        "annFile='{}/annotations/instances_{}.json'.format(dataDir,dataType)"
      ],
      "metadata": {
        "execution": {
          "iopub.status.busy": "2022-05-15T09:39:31.490309Z",
          "iopub.execute_input": "2022-05-15T09:39:31.492253Z",
          "iopub.status.idle": "2022-05-15T09:39:31.512773Z",
          "shell.execute_reply.started": "2022-05-15T09:39:31.492076Z",
          "shell.execute_reply": "2022-05-15T09:39:31.510039Z"
        },
        "trusted": true,
        "id": "ntmmIiHKJHJR"
      },
      "execution_count": null,
      "outputs": []
    },
    {
      "cell_type": "code",
      "source": [
        "# initialize COCO api for instance annotations\n",
        "coco=COCO(annFile)"
      ],
      "metadata": {
        "execution": {
          "iopub.status.busy": "2022-05-15T09:39:31.519324Z",
          "iopub.execute_input": "2022-05-15T09:39:31.522044Z",
          "iopub.status.idle": "2022-05-15T09:39:55.149312Z",
          "shell.execute_reply.started": "2022-05-15T09:39:31.521811Z",
          "shell.execute_reply": "2022-05-15T09:39:55.148346Z"
        },
        "trusted": true,
        "colab": {
          "base_uri": "https://localhost:8080/"
        },
        "id": "hpOyNwRHJHJR",
        "outputId": "20edce9c-dfd4-47c5-c10b-0fcaf41f8569"
      },
      "execution_count": null,
      "outputs": [
        {
          "output_type": "stream",
          "name": "stdout",
          "text": [
            "loading annotations into memory...\n",
            "Done (t=26.11s)\n",
            "creating index...\n",
            "index created!\n"
          ]
        }
      ]
    },
    {
      "cell_type": "code",
      "source": [
        "# display COCO categories and supercategories\n",
        "cats = coco.loadCats(coco.getCatIds())\n",
        "nms=[cat['name'] for cat in cats]\n",
        "print('COCO categories: \\n{}\\n'.format(' '.join(nms)))\n",
        "\n",
        "nms = set([cat['supercategory'] for cat in cats])\n",
        "print('COCO supercategories: \\n{}'.format(' '.join(nms)))"
      ],
      "metadata": {
        "execution": {
          "iopub.status.busy": "2022-05-15T09:39:55.151167Z",
          "iopub.execute_input": "2022-05-15T09:39:55.151395Z",
          "iopub.status.idle": "2022-05-15T09:39:55.209470Z",
          "shell.execute_reply.started": "2022-05-15T09:39:55.151369Z",
          "shell.execute_reply": "2022-05-15T09:39:55.208465Z"
        },
        "trusted": true,
        "colab": {
          "base_uri": "https://localhost:8080/"
        },
        "id": "hNyWHTkxJHJS",
        "outputId": "55dc40b5-ba40-4605-f61a-2b07c838600e"
      },
      "execution_count": null,
      "outputs": [
        {
          "output_type": "stream",
          "name": "stdout",
          "text": [
            "COCO categories: \n",
            "person bicycle car motorcycle airplane bus train truck boat traffic light fire hydrant stop sign parking meter bench bird cat dog horse sheep cow elephant bear zebra giraffe backpack umbrella handbag tie suitcase frisbee skis snowboard sports ball kite baseball bat baseball glove skateboard surfboard tennis racket bottle wine glass cup fork knife spoon bowl banana apple sandwich orange broccoli carrot hot dog pizza donut cake chair couch potted plant bed dining table toilet tv laptop mouse remote keyboard cell phone microwave oven toaster sink refrigerator book clock vase scissors teddy bear hair drier toothbrush\n",
            "\n",
            "COCO supercategories: \n",
            "electronic accessory sports animal food vehicle furniture kitchen appliance person outdoor indoor\n"
          ]
        }
      ]
    },
    {
      "cell_type": "code",
      "source": [
        "# For cats\n",
        "our_categories = ['dog']\n",
        "imgIds = []\n",
        "for cat_name in our_categories:\n",
        "  # get all images containing given categories, select one at random\n",
        "  catIds = coco.getCatIds(catNms=cat_name)\n",
        "  imgIds += coco.getImgIds(catIds=catIds)\n",
        "\n",
        "imgIds = list(set(imgIds))\n",
        "imgs = coco.loadImgs(imgIds)"
      ],
      "metadata": {
        "execution": {
          "iopub.status.busy": "2022-05-15T09:39:55.210890Z",
          "iopub.execute_input": "2022-05-15T09:39:55.211215Z",
          "iopub.status.idle": "2022-05-15T09:39:55.223896Z",
          "shell.execute_reply.started": "2022-05-15T09:39:55.211165Z",
          "shell.execute_reply": "2022-05-15T09:39:55.223084Z"
        },
        "trusted": true,
        "id": "Ixb4RC0KJHJT"
      },
      "execution_count": null,
      "outputs": []
    },
    {
      "cell_type": "code",
      "source": [
        "# initialize COCO api for caption annotations\n",
        "annFile = '{}/annotations/captions_{}.json'.format(dataDir,dataType)\n",
        "coco_caps=COCO(annFile)"
      ],
      "metadata": {
        "execution": {
          "iopub.status.busy": "2022-05-15T09:39:55.224881Z",
          "iopub.execute_input": "2022-05-15T09:39:55.225079Z",
          "iopub.status.idle": "2022-05-15T09:39:56.766409Z",
          "shell.execute_reply.started": "2022-05-15T09:39:55.225056Z",
          "shell.execute_reply": "2022-05-15T09:39:56.765477Z"
        },
        "trusted": true,
        "colab": {
          "base_uri": "https://localhost:8080/"
        },
        "id": "pwO5IVA9JHJT",
        "outputId": "26945560-ec10-40af-ba42-701227e0d40a"
      },
      "execution_count": null,
      "outputs": [
        {
          "output_type": "stream",
          "name": "stdout",
          "text": [
            "loading annotations into memory...\n",
            "Done (t=1.14s)\n",
            "creating index...\n",
            "index created!\n"
          ]
        }
      ]
    },
    {
      "cell_type": "code",
      "source": [
        "!pip install gtts"
      ],
      "metadata": {
        "execution": {
          "iopub.status.busy": "2022-05-15T09:39:56.768543Z",
          "iopub.execute_input": "2022-05-15T09:39:56.768932Z",
          "iopub.status.idle": "2022-05-15T09:40:06.257676Z",
          "shell.execute_reply.started": "2022-05-15T09:39:56.768886Z",
          "shell.execute_reply": "2022-05-15T09:40:06.256653Z"
        },
        "trusted": true,
        "colab": {
          "base_uri": "https://localhost:8080/"
        },
        "id": "Gpj7e2WVJHJU",
        "outputId": "af3d7ba8-67f8-4045-fff3-143edfe081ce"
      },
      "execution_count": null,
      "outputs": [
        {
          "output_type": "stream",
          "name": "stdout",
          "text": [
            "Collecting gtts\n",
            "  Downloading gTTS-2.2.4-py3-none-any.whl (26 kB)\n",
            "Requirement already satisfied: requests in /usr/local/lib/python3.7/dist-packages (from gtts) (2.23.0)\n",
            "Requirement already satisfied: six in /usr/local/lib/python3.7/dist-packages (from gtts) (1.15.0)\n",
            "Requirement already satisfied: click in /usr/local/lib/python3.7/dist-packages (from gtts) (7.1.2)\n",
            "Requirement already satisfied: urllib3!=1.25.0,!=1.25.1,<1.26,>=1.21.1 in /usr/local/lib/python3.7/dist-packages (from requests->gtts) (1.24.3)\n",
            "Requirement already satisfied: chardet<4,>=3.0.2 in /usr/local/lib/python3.7/dist-packages (from requests->gtts) (3.0.4)\n",
            "Requirement already satisfied: idna<3,>=2.5 in /usr/local/lib/python3.7/dist-packages (from requests->gtts) (2.10)\n",
            "Requirement already satisfied: certifi>=2017.4.17 in /usr/local/lib/python3.7/dist-packages (from requests->gtts) (2021.10.8)\n",
            "Installing collected packages: gtts\n",
            "Successfully installed gtts-2.2.4\n"
          ]
        }
      ]
    },
    {
      "cell_type": "code",
      "source": [
        "!mkdir DLProjSpeechAnnotationsDogs"
      ],
      "metadata": {
        "execution": {
          "iopub.status.busy": "2022-05-15T09:40:06.259192Z",
          "iopub.execute_input": "2022-05-15T09:40:06.259456Z",
          "iopub.status.idle": "2022-05-15T09:40:07.193973Z",
          "shell.execute_reply.started": "2022-05-15T09:40:06.259421Z",
          "shell.execute_reply": "2022-05-15T09:40:07.192907Z"
        },
        "trusted": true,
        "id": "_FSeDSF6JHJU"
      },
      "execution_count": null,
      "outputs": []
    },
    {
      "cell_type": "code",
      "source": [
        "from gtts import gTTS #Import Google Text to Speech\n",
        "from IPython.display import Audio, clear_output #Import Audio method from IPython's Display Class\n",
        "\n",
        "def full_tts(idx, count):\n",
        "  for img in imgs[idx:min(idx+50, len(imgs))]:\n",
        "    annIds = coco_caps.getAnnIds(imgIds = img['id'])\n",
        "    captions = coco_caps.loadAnns(annIds)[0:5]\n",
        "    clear_output(wait = True)\n",
        "    print(count+1, \" / \", len(imgs))\n",
        "    time.sleep(10)\n",
        "    for i in range(len(captions)):\n",
        "      caption = captions[i]['caption']\n",
        "      tts = gTTS(caption, slow = True)\n",
        "      save_file_name = './DLProjSpeechAnnotationsDogs/' + img['file_name'][:-4] + '_' + str(i) + '.wav'\n",
        "      tts.save(save_file_name)\n",
        "    count += 1\n",
        "  idx += 50\n",
        "  return idx, count"
      ],
      "metadata": {
        "execution": {
          "iopub.status.busy": "2022-05-15T09:40:07.197351Z",
          "iopub.execute_input": "2022-05-15T09:40:07.197715Z",
          "iopub.status.idle": "2022-05-15T09:40:07.215142Z",
          "shell.execute_reply.started": "2022-05-15T09:40:07.197658Z",
          "shell.execute_reply": "2022-05-15T09:40:07.214044Z"
        },
        "trusted": true,
        "id": "Iw1xij7-JHJV"
      },
      "execution_count": null,
      "outputs": []
    },
    {
      "cell_type": "code",
      "source": [
        "count = 0\n",
        "idx = 0\n",
        "for idx in range(0, len(imgs), 50):\n",
        "  idx, count = full_tts(idx, count)"
      ],
      "metadata": {
        "execution": {
          "iopub.status.busy": "2022-05-15T09:40:32.289432Z",
          "iopub.execute_input": "2022-05-15T09:40:32.289962Z"
        },
        "trusted": true,
        "colab": {
          "base_uri": "https://localhost:8080/"
        },
        "id": "bIeDsbiWJHJW",
        "outputId": "ebb88cc2-deef-4edb-b1df-7c29122c44fb"
      },
      "execution_count": null,
      "outputs": [
        {
          "output_type": "stream",
          "name": "stdout",
          "text": [
            "2093  /  4385\n"
          ]
        }
      ]
    }
  ]
}