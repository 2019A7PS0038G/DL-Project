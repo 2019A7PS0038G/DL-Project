{
  "metadata": {
    "kernelspec": {
      "language": "python",
      "display_name": "Python 3",
      "name": "python3"
    },
    "language_info": {
      "name": "python",
      "version": "3.7.12",
      "mimetype": "text/x-python",
      "codemirror_mode": {
        "name": "ipython",
        "version": 3
      },
      "pygments_lexer": "ipython3",
      "nbconvert_exporter": "python",
      "file_extension": ".py"
    },
    "colab": {
      "name": "CatsTTS.ipynb",
      "provenance": []
    }
  },
  "nbformat_minor": 0,
  "nbformat": 4,
  "cells": [
    {
      "cell_type": "code",
      "source": [
        "!wget http://images.cocodataset.org/annotations/annotations_trainval2017.zip"
      ],
      "metadata": {
        "execution": {
          "iopub.status.busy": "2022-05-15T10:11:44.877741Z",
          "iopub.execute_input": "2022-05-15T10:11:44.878726Z",
          "iopub.status.idle": "2022-05-15T10:11:53.344817Z",
          "shell.execute_reply.started": "2022-05-15T10:11:44.878637Z",
          "shell.execute_reply": "2022-05-15T10:11:53.343893Z"
        },
        "trusted": true,
        "id": "6Y-bXdmTOJZ7"
      },
      "execution_count": null,
      "outputs": []
    },
    {
      "cell_type": "code",
      "source": [
        "!unzip annotations_trainval2017.zip -d annotations_trainval2017"
      ],
      "metadata": {
        "execution": {
          "iopub.status.busy": "2022-05-15T10:11:55.510185Z",
          "iopub.execute_input": "2022-05-15T10:11:55.510466Z",
          "iopub.status.idle": "2022-05-15T10:12:01.704525Z",
          "shell.execute_reply.started": "2022-05-15T10:11:55.510428Z",
          "shell.execute_reply": "2022-05-15T10:12:01.703836Z"
        },
        "trusted": true,
        "id": "wzy9CMviOJZ-"
      },
      "execution_count": null,
      "outputs": []
    },
    {
      "cell_type": "code",
      "source": [
        "!pip install pycocotools\n",
        "%matplotlib inline\n",
        "from pycocotools.coco import COCO\n",
        "import numpy as np\n",
        "import skimage.io as io\n",
        "import matplotlib.pyplot as plt\n",
        "import pylab\n",
        "import time\n",
        "pylab.rcParams['figure.figsize'] = (8.0, 10.0)"
      ],
      "metadata": {
        "execution": {
          "iopub.status.busy": "2022-05-15T10:12:15.078191Z",
          "iopub.execute_input": "2022-05-15T10:12:15.079145Z",
          "iopub.status.idle": "2022-05-15T10:13:03.467773Z",
          "shell.execute_reply.started": "2022-05-15T10:12:15.079083Z",
          "shell.execute_reply": "2022-05-15T10:13:03.466774Z"
        },
        "trusted": true,
        "id": "bqC0xFxZOJZ_"
      },
      "execution_count": null,
      "outputs": []
    },
    {
      "cell_type": "code",
      "source": [
        "dataDir='annotations_trainval2017'\n",
        "dataType='train2017'\n",
        "annFile='{}/annotations/instances_{}.json'.format(dataDir,dataType)"
      ],
      "metadata": {
        "execution": {
          "iopub.status.busy": "2022-05-15T10:13:03.469710Z",
          "iopub.execute_input": "2022-05-15T10:13:03.470211Z",
          "iopub.status.idle": "2022-05-15T10:13:03.474696Z",
          "shell.execute_reply.started": "2022-05-15T10:13:03.470154Z",
          "shell.execute_reply": "2022-05-15T10:13:03.473800Z"
        },
        "trusted": true,
        "id": "UKDK0T1AOJZ_"
      },
      "execution_count": null,
      "outputs": []
    },
    {
      "cell_type": "code",
      "source": [
        "# initialize COCO api for instance annotations\n",
        "coco=COCO(annFile)"
      ],
      "metadata": {
        "execution": {
          "iopub.status.busy": "2022-05-15T10:13:03.476010Z",
          "iopub.execute_input": "2022-05-15T10:13:03.476304Z",
          "iopub.status.idle": "2022-05-15T10:13:30.007996Z",
          "shell.execute_reply.started": "2022-05-15T10:13:03.476267Z",
          "shell.execute_reply": "2022-05-15T10:13:30.007236Z"
        },
        "trusted": true,
        "id": "AVGFCoB1OJaA"
      },
      "execution_count": null,
      "outputs": []
    },
    {
      "cell_type": "code",
      "source": [
        "# display COCO categories and supercategories\n",
        "cats = coco.loadCats(coco.getCatIds())\n",
        "nms=[cat['name'] for cat in cats]\n",
        "print('COCO categories: \\n{}\\n'.format(' '.join(nms)))\n",
        "\n",
        "nms = set([cat['supercategory'] for cat in cats])\n",
        "print('COCO supercategories: \\n{}'.format(' '.join(nms)))"
      ],
      "metadata": {
        "execution": {
          "iopub.status.busy": "2022-05-15T10:13:30.009424Z",
          "iopub.execute_input": "2022-05-15T10:13:30.009698Z",
          "iopub.status.idle": "2022-05-15T10:13:30.044297Z",
          "shell.execute_reply.started": "2022-05-15T10:13:30.009674Z",
          "shell.execute_reply": "2022-05-15T10:13:30.043509Z"
        },
        "trusted": true,
        "id": "BsTQjVcWOJaA"
      },
      "execution_count": null,
      "outputs": []
    },
    {
      "cell_type": "code",
      "source": [
        "# For cats\n",
        "our_categories = ['cat']\n",
        "imgIds = []\n",
        "for cat_name in our_categories:\n",
        "  # get all images containing given categories, select one at random\n",
        "  catIds = coco.getCatIds(catNms=cat_name)\n",
        "  imgIds += coco.getImgIds(catIds=catIds)\n",
        "\n",
        "imgIds = list(set(imgIds))\n",
        "imgs = coco.loadImgs(imgIds)"
      ],
      "metadata": {
        "execution": {
          "iopub.status.busy": "2022-05-15T10:13:30.045402Z",
          "iopub.execute_input": "2022-05-15T10:13:30.045626Z",
          "iopub.status.idle": "2022-05-15T10:13:30.074026Z",
          "shell.execute_reply.started": "2022-05-15T10:13:30.045597Z",
          "shell.execute_reply": "2022-05-15T10:13:30.073461Z"
        },
        "trusted": true,
        "id": "O7l1YcjuOJaB"
      },
      "execution_count": null,
      "outputs": []
    },
    {
      "cell_type": "code",
      "source": [
        "# initialize COCO api for caption annotations\n",
        "annFile = '{}/annotations/captions_{}.json'.format(dataDir,dataType)\n",
        "coco_caps=COCO(annFile)"
      ],
      "metadata": {
        "execution": {
          "iopub.status.busy": "2022-05-15T10:13:30.075103Z",
          "iopub.execute_input": "2022-05-15T10:13:30.076200Z",
          "iopub.status.idle": "2022-05-15T10:13:31.985118Z",
          "shell.execute_reply.started": "2022-05-15T10:13:30.076056Z",
          "shell.execute_reply": "2022-05-15T10:13:31.984201Z"
        },
        "trusted": true,
        "id": "oO3uO5KVOJaC"
      },
      "execution_count": null,
      "outputs": []
    },
    {
      "cell_type": "code",
      "source": [
        "!pip install gtts"
      ],
      "metadata": {
        "execution": {
          "iopub.status.busy": "2022-05-15T10:13:31.986379Z",
          "iopub.execute_input": "2022-05-15T10:13:31.986626Z",
          "iopub.status.idle": "2022-05-15T10:13:40.885727Z",
          "shell.execute_reply.started": "2022-05-15T10:13:31.986593Z",
          "shell.execute_reply": "2022-05-15T10:13:40.885021Z"
        },
        "trusted": true,
        "id": "hK8lcOXPOJaC"
      },
      "execution_count": null,
      "outputs": []
    },
    {
      "cell_type": "code",
      "source": [
        "!mkdir DLProjSpeechAnnotationsCats"
      ],
      "metadata": {
        "execution": {
          "iopub.status.busy": "2022-05-15T10:13:40.887107Z",
          "iopub.execute_input": "2022-05-15T10:13:40.887336Z",
          "iopub.status.idle": "2022-05-15T10:13:41.226980Z",
          "shell.execute_reply.started": "2022-05-15T10:13:40.887302Z",
          "shell.execute_reply": "2022-05-15T10:13:41.225916Z"
        },
        "trusted": true,
        "id": "65haKdS4OJaD"
      },
      "execution_count": null,
      "outputs": []
    },
    {
      "cell_type": "code",
      "source": [
        "from gtts import gTTS #Import Google Text to Speech\n",
        "from IPython.display import Audio, clear_output #Import Audio method from IPython's Display Class\n",
        "\n",
        "count = 0\n",
        "\n",
        "for img in imgs:\n",
        "    annIds = coco_caps.getAnnIds(imgIds = img['id'])\n",
        "    captions = coco_caps.loadAnns(annIds)[0:5]\n",
        "    clear_output(wait = True)\n",
        "    print(count+1, \" / \", len(imgs))\n",
        "    time.sleep(10)\n",
        "    for i in range(len(captions)):\n",
        "      caption = captions[i]['caption']\n",
        "      tts = gTTS(caption, slow = True)\n",
        "      save_file_name = './DLProjSpeechAnnotationsCats/' + img['file_name'][:-4] + '_' + str(i) + '.wav'\n",
        "      tts.save(save_file_name)\n",
        "    count += 1"
      ],
      "metadata": {
        "execution": {
          "iopub.status.busy": "2022-05-15T10:13:41.228909Z",
          "iopub.execute_input": "2022-05-15T10:13:41.229203Z"
        },
        "trusted": true,
        "id": "agZZXujrOJaD"
      },
      "execution_count": null,
      "outputs": []
    },
    {
      "cell_type": "code",
      "source": [
        "!zip -r \"DLProjSpeechAnnotationsCats.zip\" \"DLProjSpeechAnnotationsCats\" "
      ],
      "metadata": {
        "trusted": true,
        "id": "Z3tZpqxZOJaE"
      },
      "execution_count": null,
      "outputs": []
    },
    {
      "cell_type": "code",
      "source": [
        "!ls DLProjSpeechAnnotationsCats | wc -l"
      ],
      "metadata": {
        "trusted": true,
        "id": "fG5EpFN-OJaE"
      },
      "execution_count": null,
      "outputs": []
    },
    {
      "cell_type": "code",
      "source": [
        "!cp \"DLProjSpeechAnnotationsCats.zip\" \"drive/MyDrive/\""
      ],
      "metadata": {
        "trusted": true,
        "id": "33Ib581MOJaE"
      },
      "execution_count": null,
      "outputs": []
    },
    {
      "cell_type": "code",
      "source": [
        "from google.colab import files\n",
        "files.download('DLProjSpeechAnnotationsCats.zip')"
      ],
      "metadata": {
        "id": "zzamV3cKxuOy"
      },
      "execution_count": null,
      "outputs": []
    }
  ]
}